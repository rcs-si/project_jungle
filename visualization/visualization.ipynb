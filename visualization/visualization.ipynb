{
 "cells": [
  {
   "cell_type": "code",
   "execution_count": 1,
   "metadata": {},
   "outputs": [],
   "source": [
    "import plotly.express as px\n",
    "import pandas as pd"
   ]
  },
  {
   "cell_type": "code",
   "execution_count": 2,
   "metadata": {},
   "outputs": [
    {
     "name": "stdout",
     "output_type": "stream",
     "text": [
      "Index(['1', '2', '3', '4', '5', '6', '7', '8', '9', '10', '11', '12', '13',\n",
      "       '14', '15', '16', '17', '18', '19', '20', '21'],\n",
      "      dtype='object')\n"
     ]
    },
    {
     "name": "stderr",
     "output_type": "stream",
     "text": [
      "/var/folders/x3/v841jqfj09q2jb7m1jgpt0l80000gn/T/ipykernel_89764/905925530.py:3: FutureWarning: Setting an item of incompatible dtype is deprecated and will raise in a future error of pandas. Value 'NA' has dtype incompatible with float64, please explicitly cast to a compatible dtype first.\n",
      "  df.fillna(\"NA\", inplace=True)\n"
     ]
    },
    {
     "data": {
      "text/html": [
       "<div>\n",
       "<style scoped>\n",
       "    .dataframe tbody tr th:only-of-type {\n",
       "        vertical-align: middle;\n",
       "    }\n",
       "\n",
       "    .dataframe tbody tr th {\n",
       "        vertical-align: top;\n",
       "    }\n",
       "\n",
       "    .dataframe thead th {\n",
       "        text-align: right;\n",
       "    }\n",
       "</style>\n",
       "<table border=\"1\" class=\"dataframe\">\n",
       "  <thead>\n",
       "    <tr style=\"text-align: right;\">\n",
       "      <th></th>\n",
       "      <th>1</th>\n",
       "      <th>2</th>\n",
       "      <th>3</th>\n",
       "      <th>4</th>\n",
       "      <th>5</th>\n",
       "      <th>6</th>\n",
       "      <th>7</th>\n",
       "      <th>8</th>\n",
       "      <th>9</th>\n",
       "      <th>10</th>\n",
       "      <th>...</th>\n",
       "      <th>17</th>\n",
       "      <th>18</th>\n",
       "      <th>19</th>\n",
       "      <th>20</th>\n",
       "      <th>21</th>\n",
       "      <th>22</th>\n",
       "      <th>owner</th>\n",
       "      <th>size_in_gb</th>\n",
       "      <th>access_datetime</th>\n",
       "      <th>full_pathname</th>\n",
       "    </tr>\n",
       "  </thead>\n",
       "  <tbody>\n",
       "    <tr>\n",
       "      <th>0</th>\n",
       "      <td>gpfs4</td>\n",
       "      <td>projectnb</td>\n",
       "      <td>econdept</td>\n",
       "      <td>aquino</td>\n",
       "      <td>Documents</td>\n",
       "      <td>data</td>\n",
       "      <td>04_cleandata</td>\n",
       "      <td>usa_00022_no1850.dta</td>\n",
       "      <td>NA</td>\n",
       "      <td>NA</td>\n",
       "      <td>...</td>\n",
       "      <td>NA</td>\n",
       "      <td>NA</td>\n",
       "      <td>NA</td>\n",
       "      <td>NA</td>\n",
       "      <td>NA</td>\n",
       "      <td>NA</td>\n",
       "      <td>aquino</td>\n",
       "      <td>27.712007</td>\n",
       "      <td>2023-05-16 17:23:50.407782912</td>\n",
       "      <td>/gpfs4/projectnb/econdept/aquino/Documents/dat...</td>\n",
       "    </tr>\n",
       "    <tr>\n",
       "      <th>1</th>\n",
       "      <td>gpfs4</td>\n",
       "      <td>projectnb</td>\n",
       "      <td>econdept</td>\n",
       "      <td>hongmatt</td>\n",
       "      <td>.conda</td>\n",
       "      <td>pkgs</td>\n",
       "      <td>giflib-5.2.1-h5eee18b_3</td>\n",
       "      <td>info</td>\n",
       "      <td>licenses</td>\n",
       "      <td>COPYING</td>\n",
       "      <td>...</td>\n",
       "      <td>NA</td>\n",
       "      <td>NA</td>\n",
       "      <td>NA</td>\n",
       "      <td>NA</td>\n",
       "      <td>NA</td>\n",
       "      <td>NA</td>\n",
       "      <td>hongmatt</td>\n",
       "      <td>0.000001</td>\n",
       "      <td>2012-10-17 00:06:13.000000000</td>\n",
       "      <td>/gpfs4/projectnb/econdept/hongmatt/.conda/pkgs...</td>\n",
       "    </tr>\n",
       "    <tr>\n",
       "      <th>2</th>\n",
       "      <td>gpfs4</td>\n",
       "      <td>projectnb</td>\n",
       "      <td>econdept</td>\n",
       "      <td>casano</td>\n",
       "      <td>KSS_Data</td>\n",
       "      <td>Replication_Files</td>\n",
       "      <td>data</td>\n",
       "      <td>tax_data</td>\n",
       "      <td>Saez_Zucman.dta</td>\n",
       "      <td>NA</td>\n",
       "      <td>...</td>\n",
       "      <td>NA</td>\n",
       "      <td>NA</td>\n",
       "      <td>NA</td>\n",
       "      <td>NA</td>\n",
       "      <td>NA</td>\n",
       "      <td>NA</td>\n",
       "      <td>ecasano</td>\n",
       "      <td>0.000005</td>\n",
       "      <td>2018-05-23 15:23:04.000000000</td>\n",
       "      <td>/gpfs4/projectnb/econdept/casano/KSS_Data/Repl...</td>\n",
       "    </tr>\n",
       "    <tr>\n",
       "      <th>3</th>\n",
       "      <td>gpfs4</td>\n",
       "      <td>projectnb</td>\n",
       "      <td>econdept</td>\n",
       "      <td>casano</td>\n",
       "      <td>KSS_Data</td>\n",
       "      <td>Replication_Files</td>\n",
       "      <td>data</td>\n",
       "      <td>tax_data</td>\n",
       "      <td>Piketty_Saez.dta</td>\n",
       "      <td>NA</td>\n",
       "      <td>...</td>\n",
       "      <td>NA</td>\n",
       "      <td>NA</td>\n",
       "      <td>NA</td>\n",
       "      <td>NA</td>\n",
       "      <td>NA</td>\n",
       "      <td>NA</td>\n",
       "      <td>ecasano</td>\n",
       "      <td>0.000005</td>\n",
       "      <td>2018-05-23 15:23:00.000000000</td>\n",
       "      <td>/gpfs4/projectnb/econdept/casano/KSS_Data/Repl...</td>\n",
       "    </tr>\n",
       "    <tr>\n",
       "      <th>4</th>\n",
       "      <td>gpfs4</td>\n",
       "      <td>projectnb</td>\n",
       "      <td>econdept</td>\n",
       "      <td>casano</td>\n",
       "      <td>KSS_Data</td>\n",
       "      <td>Replication_Files</td>\n",
       "      <td>data</td>\n",
       "      <td>tax_data</td>\n",
       "      <td>Top1Thresholds.xlsx</td>\n",
       "      <td>NA</td>\n",
       "      <td>...</td>\n",
       "      <td>NA</td>\n",
       "      <td>NA</td>\n",
       "      <td>NA</td>\n",
       "      <td>NA</td>\n",
       "      <td>NA</td>\n",
       "      <td>NA</td>\n",
       "      <td>ecasano</td>\n",
       "      <td>0.000135</td>\n",
       "      <td>2019-01-29 22:30:04.000000000</td>\n",
       "      <td>/gpfs4/projectnb/econdept/casano/KSS_Data/Repl...</td>\n",
       "    </tr>\n",
       "  </tbody>\n",
       "</table>\n",
       "<p>5 rows × 26 columns</p>\n",
       "</div>"
      ],
      "text/plain": [
       "       1          2         3         4          5                  6  \\\n",
       "0  gpfs4  projectnb  econdept    aquino  Documents               data   \n",
       "1  gpfs4  projectnb  econdept  hongmatt     .conda               pkgs   \n",
       "2  gpfs4  projectnb  econdept    casano   KSS_Data  Replication_Files   \n",
       "3  gpfs4  projectnb  econdept    casano   KSS_Data  Replication_Files   \n",
       "4  gpfs4  projectnb  econdept    casano   KSS_Data  Replication_Files   \n",
       "\n",
       "                         7                     8                    9  \\\n",
       "0             04_cleandata  usa_00022_no1850.dta                   NA   \n",
       "1  giflib-5.2.1-h5eee18b_3                  info             licenses   \n",
       "2                     data              tax_data      Saez_Zucman.dta   \n",
       "3                     data              tax_data     Piketty_Saez.dta   \n",
       "4                     data              tax_data  Top1Thresholds.xlsx   \n",
       "\n",
       "        10  ...  17  18  19  20  21  22     owner size_in_gb  \\\n",
       "0       NA  ...  NA  NA  NA  NA  NA  NA    aquino  27.712007   \n",
       "1  COPYING  ...  NA  NA  NA  NA  NA  NA  hongmatt   0.000001   \n",
       "2       NA  ...  NA  NA  NA  NA  NA  NA   ecasano   0.000005   \n",
       "3       NA  ...  NA  NA  NA  NA  NA  NA   ecasano   0.000005   \n",
       "4       NA  ...  NA  NA  NA  NA  NA  NA   ecasano   0.000135   \n",
       "\n",
       "                 access_datetime  \\\n",
       "0  2023-05-16 17:23:50.407782912   \n",
       "1  2012-10-17 00:06:13.000000000   \n",
       "2  2018-05-23 15:23:04.000000000   \n",
       "3  2018-05-23 15:23:00.000000000   \n",
       "4  2019-01-29 22:30:04.000000000   \n",
       "\n",
       "                                       full_pathname  \n",
       "0  /gpfs4/projectnb/econdept/aquino/Documents/dat...  \n",
       "1  /gpfs4/projectnb/econdept/hongmatt/.conda/pkgs...  \n",
       "2  /gpfs4/projectnb/econdept/casano/KSS_Data/Repl...  \n",
       "3  /gpfs4/projectnb/econdept/casano/KSS_Data/Repl...  \n",
       "4  /gpfs4/projectnb/econdept/casano/KSS_Data/Repl...  \n",
       "\n",
       "[5 rows x 26 columns]"
      ]
     },
     "execution_count": 2,
     "metadata": {},
     "output_type": "execute_result"
    }
   ],
   "source": [
    "df = pd.read_csv(\"../final_df.csv\")\n",
    "print(df.columns[:21])\n",
    "df.fillna(\"NA\", inplace=True)\n",
    "df.head()"
   ]
  },
  {
   "cell_type": "code",
   "execution_count": 3,
   "metadata": {},
   "outputs": [],
   "source": [
    "df[\"year\"] = df[\"access_datetime\"].str[0:4]\n",
    "df[\"year\"] = pd.to_numeric(df[\"year\"])"
   ]
  },
  {
   "cell_type": "code",
   "execution_count": 9,
   "metadata": {},
   "outputs": [
    {
     "data": {
      "application/vnd.plotly.v1+json": {
       "config": {
        "plotlyServerURL": "https://plot.ly"
       },
       "data": [
        {
         "branchvalues": "total",
         "customdata": [
          [
           2012
          ],
          [
           2023.0000000000002
          ],
          [
           2022.0000000000002
          ],
          [
           2023
          ],
          [
           2023
          ],
          [
           2023
          ],
          [
           2018
          ],
          [
           2018
          ],
          [
           2018.9999999999998
          ],
          [
           2012
          ],
          [
           2023.0000000000002
          ],
          [
           2022.0000000000002
          ],
          [
           2023
          ],
          [
           2023
          ],
          [
           2023
          ],
          [
           2018
          ],
          [
           2018
          ],
          [
           2018.9999999999998
          ],
          [
           2023.0000000000002
          ],
          [
           2022.0000000000002
          ],
          [
           2023
          ],
          [
           2023
          ],
          [
           2023
          ],
          [
           2018
          ],
          [
           2018
          ],
          [
           2018.9999999999998
          ],
          [
           2012
          ],
          [
           2023.0000000000002
          ],
          [
           2022.0000000000002
          ],
          [
           2023
          ],
          [
           2023
          ],
          [
           2012
          ],
          [
           2018.9334723353718
          ],
          [
           2023
          ],
          [
           2023
          ],
          [
           2023.0000000000002
          ],
          [
           2022.0000000000002
          ],
          [
           2023
          ],
          [
           2023
          ],
          [
           2018.9334723353718
          ],
          [
           2012
          ],
          [
           2022.0000000000002
          ],
          [
           2023
          ],
          [
           2018.9334723353718
          ],
          [
           2023
          ],
          [
           2023
          ],
          [
           2023.0000000000002
          ],
          [
           2012
          ],
          [
           2012
          ],
          [
           2023
          ],
          [
           2022.0000000000002
          ],
          [
           2018.9334723353718
          ],
          [
           2023
          ],
          [
           2023.0000000000002
          ],
          [
           2023
          ],
          [
           2023
          ],
          [
           2018.9334723353718
          ],
          [
           2022.0000000000002
          ],
          [
           2012
          ],
          [
           2023
          ],
          [
           2023.0000000000002
          ],
          [
           2023
          ],
          [
           2022.8350899573288
          ]
         ],
         "domain": {
          "x": [
           0,
           1
          ],
          "y": [
           0,
           1
          ]
         },
         "hovertemplate": "labels=%{label}<br>size_in_gb=%{value}<br>parent=%{parent}<br>id=%{id}<br>year=%{color}<extra></extra>",
         "ids": [
          "econdept/hongmatt/.conda/pkgs/giflib-5.2.1-h5eee18b_3/info/licenses/COPYING/NA",
          "econdept/russog/facebook/data/Countypairs_IV.dta/NA/NA/NA/NA",
          "econdept/hhzhang/HMDA_data/HMDA_sample_2007_2017_fullsamp.csv/NA/NA/NA/NA/NA",
          "econdept/leima/georgiamls/RentalArchive.rpt/NA/NA/NA/NA/NA",
          "econdept/sanghoon/aptdata-20230316/aptsales/apt-salesdet.txt/NA/NA/NA/NA",
          "econdept/aquino/Documents/data/04_cleandata/usa_00022_no1850.dta/NA/NA/NA",
          "econdept/casano/KSS_Data/Replication_Files/data/tax_data/Piketty_Saez.dta/NA/NA",
          "econdept/casano/KSS_Data/Replication_Files/data/tax_data/Saez_Zucman.dta/NA/NA",
          "econdept/casano/KSS_Data/Replication_Files/data/tax_data/Top1Thresholds.xlsx/NA/NA",
          "econdept/hongmatt/.conda/pkgs/giflib-5.2.1-h5eee18b_3/info/licenses/COPYING",
          "econdept/russog/facebook/data/Countypairs_IV.dta/NA/NA/NA",
          "econdept/hhzhang/HMDA_data/HMDA_sample_2007_2017_fullsamp.csv/NA/NA/NA/NA",
          "econdept/leima/georgiamls/RentalArchive.rpt/NA/NA/NA/NA",
          "econdept/sanghoon/aptdata-20230316/aptsales/apt-salesdet.txt/NA/NA/NA",
          "econdept/aquino/Documents/data/04_cleandata/usa_00022_no1850.dta/NA/NA",
          "econdept/casano/KSS_Data/Replication_Files/data/tax_data/Piketty_Saez.dta/NA",
          "econdept/casano/KSS_Data/Replication_Files/data/tax_data/Saez_Zucman.dta/NA",
          "econdept/casano/KSS_Data/Replication_Files/data/tax_data/Top1Thresholds.xlsx/NA",
          "econdept/russog/facebook/data/Countypairs_IV.dta/NA/NA",
          "econdept/hhzhang/HMDA_data/HMDA_sample_2007_2017_fullsamp.csv/NA/NA/NA",
          "econdept/leima/georgiamls/RentalArchive.rpt/NA/NA/NA",
          "econdept/sanghoon/aptdata-20230316/aptsales/apt-salesdet.txt/NA/NA",
          "econdept/aquino/Documents/data/04_cleandata/usa_00022_no1850.dta/NA",
          "econdept/casano/KSS_Data/Replication_Files/data/tax_data/Piketty_Saez.dta",
          "econdept/casano/KSS_Data/Replication_Files/data/tax_data/Saez_Zucman.dta",
          "econdept/casano/KSS_Data/Replication_Files/data/tax_data/Top1Thresholds.xlsx",
          "econdept/hongmatt/.conda/pkgs/giflib-5.2.1-h5eee18b_3/info/licenses",
          "econdept/russog/facebook/data/Countypairs_IV.dta/NA",
          "econdept/hhzhang/HMDA_data/HMDA_sample_2007_2017_fullsamp.csv/NA/NA",
          "econdept/leima/georgiamls/RentalArchive.rpt/NA/NA",
          "econdept/sanghoon/aptdata-20230316/aptsales/apt-salesdet.txt/NA",
          "econdept/hongmatt/.conda/pkgs/giflib-5.2.1-h5eee18b_3/info",
          "econdept/casano/KSS_Data/Replication_Files/data/tax_data",
          "econdept/aquino/Documents/data/04_cleandata/usa_00022_no1850.dta",
          "econdept/aquino/Documents/data/04_cleandata",
          "econdept/russog/facebook/data/Countypairs_IV.dta",
          "econdept/hhzhang/HMDA_data/HMDA_sample_2007_2017_fullsamp.csv/NA",
          "econdept/leima/georgiamls/RentalArchive.rpt/NA",
          "econdept/sanghoon/aptdata-20230316/aptsales/apt-salesdet.txt",
          "econdept/casano/KSS_Data/Replication_Files/data",
          "econdept/hongmatt/.conda/pkgs/giflib-5.2.1-h5eee18b_3",
          "econdept/hhzhang/HMDA_data/HMDA_sample_2007_2017_fullsamp.csv",
          "econdept/leima/georgiamls/RentalArchive.rpt",
          "econdept/casano/KSS_Data/Replication_Files",
          "econdept/sanghoon/aptdata-20230316/aptsales",
          "econdept/aquino/Documents/data",
          "econdept/russog/facebook/data",
          "econdept/hongmatt/.conda/pkgs",
          "econdept/hongmatt/.conda",
          "econdept/aquino/Documents",
          "econdept/hhzhang/HMDA_data",
          "econdept/casano/KSS_Data",
          "econdept/sanghoon/aptdata-20230316",
          "econdept/russog/facebook",
          "econdept/leima/georgiamls",
          "econdept/aquino",
          "econdept/casano",
          "econdept/hhzhang",
          "econdept/hongmatt",
          "econdept/leima",
          "econdept/russog",
          "econdept/sanghoon",
          "econdept"
         ],
         "labels": [
          "NA",
          "NA",
          "NA",
          "NA",
          "NA",
          "NA",
          "NA",
          "NA",
          "NA",
          "COPYING",
          "NA",
          "NA",
          "NA",
          "NA",
          "NA",
          "NA",
          "NA",
          "NA",
          "NA",
          "NA",
          "NA",
          "NA",
          "NA",
          "Piketty_Saez.dta",
          "Saez_Zucman.dta",
          "Top1Thresholds.xlsx",
          "licenses",
          "NA",
          "NA",
          "NA",
          "NA",
          "info",
          "tax_data",
          "usa_00022_no1850.dta",
          "04_cleandata",
          "Countypairs_IV.dta",
          "NA",
          "NA",
          "apt-salesdet.txt",
          "data",
          "giflib-5.2.1-h5eee18b_3",
          "HMDA_sample_2007_2017_fullsamp.csv",
          "RentalArchive.rpt",
          "Replication_Files",
          "aptsales",
          "data",
          "data",
          "pkgs",
          ".conda",
          "Documents",
          "HMDA_data",
          "KSS_Data",
          "aptdata-20230316",
          "facebook",
          "georgiamls",
          "aquino",
          "casano",
          "hhzhang",
          "hongmatt",
          "leima",
          "russog",
          "sanghoon",
          "econdept"
         ],
         "marker": {
          "coloraxis": "coloraxis",
          "colors": [
           2012,
           2023.0000000000002,
           2022.0000000000002,
           2023,
           2023,
           2023,
           2018,
           2018,
           2018.9999999999998,
           2012,
           2023.0000000000002,
           2022.0000000000002,
           2023,
           2023,
           2023,
           2018,
           2018,
           2018.9999999999998,
           2023.0000000000002,
           2022.0000000000002,
           2023,
           2023,
           2023,
           2018,
           2018,
           2018.9999999999998,
           2012,
           2023.0000000000002,
           2022.0000000000002,
           2023,
           2023,
           2012,
           2018.9334723353718,
           2023,
           2023,
           2023.0000000000002,
           2022.0000000000002,
           2023,
           2023,
           2018.9334723353718,
           2012,
           2022.0000000000002,
           2023,
           2018.9334723353718,
           2023,
           2023,
           2023.0000000000002,
           2012,
           2012,
           2023,
           2022.0000000000002,
           2018.9334723353718,
           2023,
           2023.0000000000002,
           2023,
           2023,
           2018.9334723353718,
           2022.0000000000002,
           2012,
           2023,
           2023.0000000000002,
           2023,
           2022.8350899573288
          ]
         },
         "name": "",
         "parents": [
          "econdept/hongmatt/.conda/pkgs/giflib-5.2.1-h5eee18b_3/info/licenses/COPYING",
          "econdept/russog/facebook/data/Countypairs_IV.dta/NA/NA/NA",
          "econdept/hhzhang/HMDA_data/HMDA_sample_2007_2017_fullsamp.csv/NA/NA/NA/NA",
          "econdept/leima/georgiamls/RentalArchive.rpt/NA/NA/NA/NA",
          "econdept/sanghoon/aptdata-20230316/aptsales/apt-salesdet.txt/NA/NA/NA",
          "econdept/aquino/Documents/data/04_cleandata/usa_00022_no1850.dta/NA/NA",
          "econdept/casano/KSS_Data/Replication_Files/data/tax_data/Piketty_Saez.dta/NA",
          "econdept/casano/KSS_Data/Replication_Files/data/tax_data/Saez_Zucman.dta/NA",
          "econdept/casano/KSS_Data/Replication_Files/data/tax_data/Top1Thresholds.xlsx/NA",
          "econdept/hongmatt/.conda/pkgs/giflib-5.2.1-h5eee18b_3/info/licenses",
          "econdept/russog/facebook/data/Countypairs_IV.dta/NA/NA",
          "econdept/hhzhang/HMDA_data/HMDA_sample_2007_2017_fullsamp.csv/NA/NA/NA",
          "econdept/leima/georgiamls/RentalArchive.rpt/NA/NA/NA",
          "econdept/sanghoon/aptdata-20230316/aptsales/apt-salesdet.txt/NA/NA",
          "econdept/aquino/Documents/data/04_cleandata/usa_00022_no1850.dta/NA",
          "econdept/casano/KSS_Data/Replication_Files/data/tax_data/Piketty_Saez.dta",
          "econdept/casano/KSS_Data/Replication_Files/data/tax_data/Saez_Zucman.dta",
          "econdept/casano/KSS_Data/Replication_Files/data/tax_data/Top1Thresholds.xlsx",
          "econdept/russog/facebook/data/Countypairs_IV.dta/NA",
          "econdept/hhzhang/HMDA_data/HMDA_sample_2007_2017_fullsamp.csv/NA/NA",
          "econdept/leima/georgiamls/RentalArchive.rpt/NA/NA",
          "econdept/sanghoon/aptdata-20230316/aptsales/apt-salesdet.txt/NA",
          "econdept/aquino/Documents/data/04_cleandata/usa_00022_no1850.dta",
          "econdept/casano/KSS_Data/Replication_Files/data/tax_data",
          "econdept/casano/KSS_Data/Replication_Files/data/tax_data",
          "econdept/casano/KSS_Data/Replication_Files/data/tax_data",
          "econdept/hongmatt/.conda/pkgs/giflib-5.2.1-h5eee18b_3/info",
          "econdept/russog/facebook/data/Countypairs_IV.dta",
          "econdept/hhzhang/HMDA_data/HMDA_sample_2007_2017_fullsamp.csv/NA",
          "econdept/leima/georgiamls/RentalArchive.rpt/NA",
          "econdept/sanghoon/aptdata-20230316/aptsales/apt-salesdet.txt",
          "econdept/hongmatt/.conda/pkgs/giflib-5.2.1-h5eee18b_3",
          "econdept/casano/KSS_Data/Replication_Files/data",
          "econdept/aquino/Documents/data/04_cleandata",
          "econdept/aquino/Documents/data",
          "econdept/russog/facebook/data",
          "econdept/hhzhang/HMDA_data/HMDA_sample_2007_2017_fullsamp.csv",
          "econdept/leima/georgiamls/RentalArchive.rpt",
          "econdept/sanghoon/aptdata-20230316/aptsales",
          "econdept/casano/KSS_Data/Replication_Files",
          "econdept/hongmatt/.conda/pkgs",
          "econdept/hhzhang/HMDA_data",
          "econdept/leima/georgiamls",
          "econdept/casano/KSS_Data",
          "econdept/sanghoon/aptdata-20230316",
          "econdept/aquino/Documents",
          "econdept/russog/facebook",
          "econdept/hongmatt/.conda",
          "econdept/hongmatt",
          "econdept/aquino",
          "econdept/hhzhang",
          "econdept/casano",
          "econdept/sanghoon",
          "econdept/russog",
          "econdept/leima",
          "econdept",
          "econdept",
          "econdept",
          "econdept",
          "econdept",
          "econdept",
          "econdept",
          ""
         ],
         "type": "treemap",
         "values": [
          0.000001088,
          12.127553157,
          19.809852589,
          21.607627022,
          11.159656387,
          55.42401359,
          0.000004857,
          0.000004779,
          0.000135206,
          0.000001088,
          12.127553157,
          19.809852589,
          21.607627022,
          11.159656387,
          55.42401359,
          0.000004857,
          0.000004779,
          0.000135206,
          12.127553157,
          19.809852589,
          21.607627022,
          11.159656387,
          55.42401359,
          0.000004857,
          0.000004779,
          0.000135206,
          0.000001088,
          12.127553157,
          19.809852589,
          21.607627022,
          11.159656387,
          0.000001088,
          0.000144842,
          55.42401359,
          55.42401359,
          12.127553157,
          19.809852589,
          21.607627022,
          11.159656387,
          0.000144842,
          0.000001088,
          19.809852589,
          21.607627022,
          0.000144842,
          11.159656387,
          55.42401359,
          12.127553157,
          0.000001088,
          0.000001088,
          55.42401359,
          19.809852589,
          0.000144842,
          11.159656387,
          12.127553157,
          21.607627022,
          55.42401359,
          0.000144842,
          19.809852589,
          0.000001088,
          21.607627022,
          12.127553157,
          11.159656387,
          120.128848675
         ]
        }
       ],
       "layout": {
        "coloraxis": {
         "colorbar": {
          "title": {
           "text": "year"
          }
         },
         "colorscale": [
          [
           0,
           "rgb(103,0,31)"
          ],
          [
           0.1,
           "rgb(178,24,43)"
          ],
          [
           0.2,
           "rgb(214,96,77)"
          ],
          [
           0.3,
           "rgb(244,165,130)"
          ],
          [
           0.4,
           "rgb(253,219,199)"
          ],
          [
           0.5,
           "rgb(247,247,247)"
          ],
          [
           0.6,
           "rgb(209,229,240)"
          ],
          [
           0.7,
           "rgb(146,197,222)"
          ],
          [
           0.8,
           "rgb(67,147,195)"
          ],
          [
           0.9,
           "rgb(33,102,172)"
          ],
          [
           1,
           "rgb(5,48,97)"
          ]
         ]
        },
        "legend": {
         "tracegroupgap": 0
        },
        "margin": {
         "t": 60
        },
        "template": {
         "data": {
          "bar": [
           {
            "error_x": {
             "color": "#2a3f5f"
            },
            "error_y": {
             "color": "#2a3f5f"
            },
            "marker": {
             "line": {
              "color": "#E5ECF6",
              "width": 0.5
             },
             "pattern": {
              "fillmode": "overlay",
              "size": 10,
              "solidity": 0.2
             }
            },
            "type": "bar"
           }
          ],
          "barpolar": [
           {
            "marker": {
             "line": {
              "color": "#E5ECF6",
              "width": 0.5
             },
             "pattern": {
              "fillmode": "overlay",
              "size": 10,
              "solidity": 0.2
             }
            },
            "type": "barpolar"
           }
          ],
          "carpet": [
           {
            "aaxis": {
             "endlinecolor": "#2a3f5f",
             "gridcolor": "white",
             "linecolor": "white",
             "minorgridcolor": "white",
             "startlinecolor": "#2a3f5f"
            },
            "baxis": {
             "endlinecolor": "#2a3f5f",
             "gridcolor": "white",
             "linecolor": "white",
             "minorgridcolor": "white",
             "startlinecolor": "#2a3f5f"
            },
            "type": "carpet"
           }
          ],
          "choropleth": [
           {
            "colorbar": {
             "outlinewidth": 0,
             "ticks": ""
            },
            "type": "choropleth"
           }
          ],
          "contour": [
           {
            "colorbar": {
             "outlinewidth": 0,
             "ticks": ""
            },
            "colorscale": [
             [
              0,
              "#0d0887"
             ],
             [
              0.1111111111111111,
              "#46039f"
             ],
             [
              0.2222222222222222,
              "#7201a8"
             ],
             [
              0.3333333333333333,
              "#9c179e"
             ],
             [
              0.4444444444444444,
              "#bd3786"
             ],
             [
              0.5555555555555556,
              "#d8576b"
             ],
             [
              0.6666666666666666,
              "#ed7953"
             ],
             [
              0.7777777777777778,
              "#fb9f3a"
             ],
             [
              0.8888888888888888,
              "#fdca26"
             ],
             [
              1,
              "#f0f921"
             ]
            ],
            "type": "contour"
           }
          ],
          "contourcarpet": [
           {
            "colorbar": {
             "outlinewidth": 0,
             "ticks": ""
            },
            "type": "contourcarpet"
           }
          ],
          "heatmap": [
           {
            "colorbar": {
             "outlinewidth": 0,
             "ticks": ""
            },
            "colorscale": [
             [
              0,
              "#0d0887"
             ],
             [
              0.1111111111111111,
              "#46039f"
             ],
             [
              0.2222222222222222,
              "#7201a8"
             ],
             [
              0.3333333333333333,
              "#9c179e"
             ],
             [
              0.4444444444444444,
              "#bd3786"
             ],
             [
              0.5555555555555556,
              "#d8576b"
             ],
             [
              0.6666666666666666,
              "#ed7953"
             ],
             [
              0.7777777777777778,
              "#fb9f3a"
             ],
             [
              0.8888888888888888,
              "#fdca26"
             ],
             [
              1,
              "#f0f921"
             ]
            ],
            "type": "heatmap"
           }
          ],
          "heatmapgl": [
           {
            "colorbar": {
             "outlinewidth": 0,
             "ticks": ""
            },
            "colorscale": [
             [
              0,
              "#0d0887"
             ],
             [
              0.1111111111111111,
              "#46039f"
             ],
             [
              0.2222222222222222,
              "#7201a8"
             ],
             [
              0.3333333333333333,
              "#9c179e"
             ],
             [
              0.4444444444444444,
              "#bd3786"
             ],
             [
              0.5555555555555556,
              "#d8576b"
             ],
             [
              0.6666666666666666,
              "#ed7953"
             ],
             [
              0.7777777777777778,
              "#fb9f3a"
             ],
             [
              0.8888888888888888,
              "#fdca26"
             ],
             [
              1,
              "#f0f921"
             ]
            ],
            "type": "heatmapgl"
           }
          ],
          "histogram": [
           {
            "marker": {
             "pattern": {
              "fillmode": "overlay",
              "size": 10,
              "solidity": 0.2
             }
            },
            "type": "histogram"
           }
          ],
          "histogram2d": [
           {
            "colorbar": {
             "outlinewidth": 0,
             "ticks": ""
            },
            "colorscale": [
             [
              0,
              "#0d0887"
             ],
             [
              0.1111111111111111,
              "#46039f"
             ],
             [
              0.2222222222222222,
              "#7201a8"
             ],
             [
              0.3333333333333333,
              "#9c179e"
             ],
             [
              0.4444444444444444,
              "#bd3786"
             ],
             [
              0.5555555555555556,
              "#d8576b"
             ],
             [
              0.6666666666666666,
              "#ed7953"
             ],
             [
              0.7777777777777778,
              "#fb9f3a"
             ],
             [
              0.8888888888888888,
              "#fdca26"
             ],
             [
              1,
              "#f0f921"
             ]
            ],
            "type": "histogram2d"
           }
          ],
          "histogram2dcontour": [
           {
            "colorbar": {
             "outlinewidth": 0,
             "ticks": ""
            },
            "colorscale": [
             [
              0,
              "#0d0887"
             ],
             [
              0.1111111111111111,
              "#46039f"
             ],
             [
              0.2222222222222222,
              "#7201a8"
             ],
             [
              0.3333333333333333,
              "#9c179e"
             ],
             [
              0.4444444444444444,
              "#bd3786"
             ],
             [
              0.5555555555555556,
              "#d8576b"
             ],
             [
              0.6666666666666666,
              "#ed7953"
             ],
             [
              0.7777777777777778,
              "#fb9f3a"
             ],
             [
              0.8888888888888888,
              "#fdca26"
             ],
             [
              1,
              "#f0f921"
             ]
            ],
            "type": "histogram2dcontour"
           }
          ],
          "mesh3d": [
           {
            "colorbar": {
             "outlinewidth": 0,
             "ticks": ""
            },
            "type": "mesh3d"
           }
          ],
          "parcoords": [
           {
            "line": {
             "colorbar": {
              "outlinewidth": 0,
              "ticks": ""
             }
            },
            "type": "parcoords"
           }
          ],
          "pie": [
           {
            "automargin": true,
            "type": "pie"
           }
          ],
          "scatter": [
           {
            "fillpattern": {
             "fillmode": "overlay",
             "size": 10,
             "solidity": 0.2
            },
            "type": "scatter"
           }
          ],
          "scatter3d": [
           {
            "line": {
             "colorbar": {
              "outlinewidth": 0,
              "ticks": ""
             }
            },
            "marker": {
             "colorbar": {
              "outlinewidth": 0,
              "ticks": ""
             }
            },
            "type": "scatter3d"
           }
          ],
          "scattercarpet": [
           {
            "marker": {
             "colorbar": {
              "outlinewidth": 0,
              "ticks": ""
             }
            },
            "type": "scattercarpet"
           }
          ],
          "scattergeo": [
           {
            "marker": {
             "colorbar": {
              "outlinewidth": 0,
              "ticks": ""
             }
            },
            "type": "scattergeo"
           }
          ],
          "scattergl": [
           {
            "marker": {
             "colorbar": {
              "outlinewidth": 0,
              "ticks": ""
             }
            },
            "type": "scattergl"
           }
          ],
          "scattermapbox": [
           {
            "marker": {
             "colorbar": {
              "outlinewidth": 0,
              "ticks": ""
             }
            },
            "type": "scattermapbox"
           }
          ],
          "scatterpolar": [
           {
            "marker": {
             "colorbar": {
              "outlinewidth": 0,
              "ticks": ""
             }
            },
            "type": "scatterpolar"
           }
          ],
          "scatterpolargl": [
           {
            "marker": {
             "colorbar": {
              "outlinewidth": 0,
              "ticks": ""
             }
            },
            "type": "scatterpolargl"
           }
          ],
          "scatterternary": [
           {
            "marker": {
             "colorbar": {
              "outlinewidth": 0,
              "ticks": ""
             }
            },
            "type": "scatterternary"
           }
          ],
          "surface": [
           {
            "colorbar": {
             "outlinewidth": 0,
             "ticks": ""
            },
            "colorscale": [
             [
              0,
              "#0d0887"
             ],
             [
              0.1111111111111111,
              "#46039f"
             ],
             [
              0.2222222222222222,
              "#7201a8"
             ],
             [
              0.3333333333333333,
              "#9c179e"
             ],
             [
              0.4444444444444444,
              "#bd3786"
             ],
             [
              0.5555555555555556,
              "#d8576b"
             ],
             [
              0.6666666666666666,
              "#ed7953"
             ],
             [
              0.7777777777777778,
              "#fb9f3a"
             ],
             [
              0.8888888888888888,
              "#fdca26"
             ],
             [
              1,
              "#f0f921"
             ]
            ],
            "type": "surface"
           }
          ],
          "table": [
           {
            "cells": {
             "fill": {
              "color": "#EBF0F8"
             },
             "line": {
              "color": "white"
             }
            },
            "header": {
             "fill": {
              "color": "#C8D4E3"
             },
             "line": {
              "color": "white"
             }
            },
            "type": "table"
           }
          ]
         },
         "layout": {
          "annotationdefaults": {
           "arrowcolor": "#2a3f5f",
           "arrowhead": 0,
           "arrowwidth": 1
          },
          "autotypenumbers": "strict",
          "coloraxis": {
           "colorbar": {
            "outlinewidth": 0,
            "ticks": ""
           }
          },
          "colorscale": {
           "diverging": [
            [
             0,
             "#8e0152"
            ],
            [
             0.1,
             "#c51b7d"
            ],
            [
             0.2,
             "#de77ae"
            ],
            [
             0.3,
             "#f1b6da"
            ],
            [
             0.4,
             "#fde0ef"
            ],
            [
             0.5,
             "#f7f7f7"
            ],
            [
             0.6,
             "#e6f5d0"
            ],
            [
             0.7,
             "#b8e186"
            ],
            [
             0.8,
             "#7fbc41"
            ],
            [
             0.9,
             "#4d9221"
            ],
            [
             1,
             "#276419"
            ]
           ],
           "sequential": [
            [
             0,
             "#0d0887"
            ],
            [
             0.1111111111111111,
             "#46039f"
            ],
            [
             0.2222222222222222,
             "#7201a8"
            ],
            [
             0.3333333333333333,
             "#9c179e"
            ],
            [
             0.4444444444444444,
             "#bd3786"
            ],
            [
             0.5555555555555556,
             "#d8576b"
            ],
            [
             0.6666666666666666,
             "#ed7953"
            ],
            [
             0.7777777777777778,
             "#fb9f3a"
            ],
            [
             0.8888888888888888,
             "#fdca26"
            ],
            [
             1,
             "#f0f921"
            ]
           ],
           "sequentialminus": [
            [
             0,
             "#0d0887"
            ],
            [
             0.1111111111111111,
             "#46039f"
            ],
            [
             0.2222222222222222,
             "#7201a8"
            ],
            [
             0.3333333333333333,
             "#9c179e"
            ],
            [
             0.4444444444444444,
             "#bd3786"
            ],
            [
             0.5555555555555556,
             "#d8576b"
            ],
            [
             0.6666666666666666,
             "#ed7953"
            ],
            [
             0.7777777777777778,
             "#fb9f3a"
            ],
            [
             0.8888888888888888,
             "#fdca26"
            ],
            [
             1,
             "#f0f921"
            ]
           ]
          },
          "colorway": [
           "#636efa",
           "#EF553B",
           "#00cc96",
           "#ab63fa",
           "#FFA15A",
           "#19d3f3",
           "#FF6692",
           "#B6E880",
           "#FF97FF",
           "#FECB52"
          ],
          "font": {
           "color": "#2a3f5f"
          },
          "geo": {
           "bgcolor": "white",
           "lakecolor": "white",
           "landcolor": "#E5ECF6",
           "showlakes": true,
           "showland": true,
           "subunitcolor": "white"
          },
          "hoverlabel": {
           "align": "left"
          },
          "hovermode": "closest",
          "mapbox": {
           "style": "light"
          },
          "paper_bgcolor": "white",
          "plot_bgcolor": "#E5ECF6",
          "polar": {
           "angularaxis": {
            "gridcolor": "white",
            "linecolor": "white",
            "ticks": ""
           },
           "bgcolor": "#E5ECF6",
           "radialaxis": {
            "gridcolor": "white",
            "linecolor": "white",
            "ticks": ""
           }
          },
          "scene": {
           "xaxis": {
            "backgroundcolor": "#E5ECF6",
            "gridcolor": "white",
            "gridwidth": 2,
            "linecolor": "white",
            "showbackground": true,
            "ticks": "",
            "zerolinecolor": "white"
           },
           "yaxis": {
            "backgroundcolor": "#E5ECF6",
            "gridcolor": "white",
            "gridwidth": 2,
            "linecolor": "white",
            "showbackground": true,
            "ticks": "",
            "zerolinecolor": "white"
           },
           "zaxis": {
            "backgroundcolor": "#E5ECF6",
            "gridcolor": "white",
            "gridwidth": 2,
            "linecolor": "white",
            "showbackground": true,
            "ticks": "",
            "zerolinecolor": "white"
           }
          },
          "shapedefaults": {
           "line": {
            "color": "#2a3f5f"
           }
          },
          "ternary": {
           "aaxis": {
            "gridcolor": "white",
            "linecolor": "white",
            "ticks": ""
           },
           "baxis": {
            "gridcolor": "white",
            "linecolor": "white",
            "ticks": ""
           },
           "bgcolor": "#E5ECF6",
           "caxis": {
            "gridcolor": "white",
            "linecolor": "white",
            "ticks": ""
           }
          },
          "title": {
           "x": 0.05
          },
          "xaxis": {
           "automargin": true,
           "gridcolor": "white",
           "linecolor": "white",
           "ticks": "",
           "title": {
            "standoff": 15
           },
           "zerolinecolor": "white",
           "zerolinewidth": 2
          },
          "yaxis": {
           "automargin": true,
           "gridcolor": "white",
           "linecolor": "white",
           "ticks": "",
           "title": {
            "standoff": 15
           },
           "zerolinecolor": "white",
           "zerolinewidth": 2
          }
         }
        }
       }
      }
     },
     "metadata": {},
     "output_type": "display_data"
    }
   ],
   "source": [
    "fig = px.treemap(df, path=df.columns[2:11], values='size_in_gb', color='year', color_continuous_scale='RdBu',)\n",
    "fig.write_html('treemap_plot.html')\n",
    "fig.show()"
   ]
  },
  {
   "cell_type": "code",
   "execution_count": null,
   "metadata": {},
   "outputs": [],
   "source": []
  }
 ],
 "metadata": {
  "kernelspec": {
   "display_name": "Python 3",
   "language": "python",
   "name": "python3"
  },
  "language_info": {
   "codemirror_mode": {
    "name": "ipython",
    "version": 3
   },
   "file_extension": ".py",
   "mimetype": "text/x-python",
   "name": "python",
   "nbconvert_exporter": "python",
   "pygments_lexer": "ipython3",
   "version": "3.11.7"
  }
 },
 "nbformat": 4,
 "nbformat_minor": 2
}
